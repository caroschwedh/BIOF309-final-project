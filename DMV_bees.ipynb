{
 "cells": [
  {
   "cell_type": "markdown",
   "metadata": {},
   "source": [
    "### Step 0: GIT - setting branch master, adding, commits, and pushing"
   ]
  },
  {
   "cell_type": "markdown",
   "metadata": {},
   "source": [
    "Set branch master at the beginning.\n",
    "\n",
    "For every change, add, commit, push"
   ]
  },
  {
   "cell_type": "code",
   "execution_count": null,
   "metadata": {},
   "outputs": [],
   "source": [
    "# make sure you are in the right working directory"
   ]
  },
  {
   "cell_type": "code",
   "execution_count": 38,
   "metadata": {},
   "outputs": [
    {
     "name": "stdout",
     "output_type": "stream",
     "text": [
      "/c/Users/schwedhelmramc2/Documents/Python Scripts/Final project\n"
     ]
    }
   ],
   "source": [
    "!pwd"
   ]
  },
  {
   "cell_type": "code",
   "execution_count": null,
   "metadata": {},
   "outputs": [],
   "source": [
    "!git remote add origin https://github.com/caroschwedh/BIOF309-final-project.git"
   ]
  },
  {
   "cell_type": "code",
   "execution_count": 104,
   "metadata": {},
   "outputs": [],
   "source": [
    "!git add DMV_bees.ipynb\n",
    "!git add README.md"
   ]
  },
  {
   "cell_type": "code",
   "execution_count": 105,
   "metadata": {},
   "outputs": [
    {
     "name": "stdout",
     "output_type": "stream",
     "text": [
      "On branch master\n",
      "Changes not staged for commit:\n",
      "\tmodified:   DMV_bees.ipynb\n",
      "\n",
      "no changes added to commit\n"
     ]
    }
   ],
   "source": [
    "!git commit -m \"first pushed commit\""
   ]
  },
  {
   "cell_type": "code",
   "execution_count": null,
   "metadata": {},
   "outputs": [],
   "source": [
    "!git push"
   ]
  },
  {
   "cell_type": "code",
   "execution_count": 106,
   "metadata": {},
   "outputs": [
    {
     "name": "stdout",
     "output_type": "stream",
     "text": [
      "origin\tgit@github.com:caroschwedh/BIOF309-final-project.git (fetch)\n",
      "origin\tgit@github.com:caroschwedh/BIOF309-final-project.git (push)\n"
     ]
    }
   ],
   "source": [
    "# for cheching origin:\n",
    "#!git remote -v"
   ]
  },
  {
   "cell_type": "code",
   "execution_count": 110,
   "metadata": {},
   "outputs": [
    {
     "name": "stderr",
     "output_type": "stream",
     "text": [
      "fatal: No such remote: 'origin'\n"
     ]
    }
   ],
   "source": [
    "# for revmoving origin (if you made a mistake when you added it)\n",
    "#!git remote rm origin"
   ]
  },
  {
   "cell_type": "code",
   "execution_count": 43,
   "metadata": {},
   "outputs": [
    {
     "name": "stdout",
     "output_type": "stream",
     "text": [
      "Branch 'master' set up to track remote branch 'master' from 'origin'.\n"
     ]
    },
    {
     "name": "stderr",
     "output_type": "stream",
     "text": [
      "To https://github.com/caroschwedh/BIOF309-final-project.git\n",
      " + 9ac6958...bdd547f master -> master (forced update)\n"
     ]
    }
   ],
   "source": [
    "# forcing push to new origin master (avoid doing this, as it may rewrite and result in loss of commits)\n",
    "#!git push -uf origin master"
   ]
  },
  {
   "cell_type": "code",
   "execution_count": 44,
   "metadata": {},
   "outputs": [
    {
     "name": "stdout",
     "output_type": "stream",
     "text": [
      "On branch master\n",
      "Your branch is up to date with 'origin/master'.\n",
      "\n",
      "Changes not staged for commit:\n",
      "  (use \"git add <file>...\" to update what will be committed)\n",
      "  (use \"git restore <file>...\" to discard changes in working directory)\n",
      "\tmodified:   .ipynb_checkpoints/DMV_bees-checkpoint.ipynb\n",
      "\tmodified:   DMV_bees.ipynb\n",
      "\tmodified:   README.md\n",
      "\n",
      "Untracked files:\n",
      "  (use \"git add <file>...\" to include in what will be committed)\n",
      "\t.ipynb_checkpoints/README-checkpoint.md\n",
      "\n",
      "no changes added to commit (use \"git add\" and/or \"git commit -a\")\n"
     ]
    }
   ],
   "source": [
    "!git status"
   ]
  },
  {
   "cell_type": "markdown",
   "metadata": {},
   "source": [
    "### Step 1: download pregenerated dataset from iNaturalist as follows:"
   ]
  },
  {
   "cell_type": "markdown",
   "metadata": {},
   "source": [
    "1. Go to iNaturalist.org and sign into your account.\n",
    "2. Go to observations > export and create a Query with the following criteria in the following fields:\n",
    "\n",
    "    Filter: quality grade Research\n",
    "    \n",
    "    Place: DMV, US\n",
    "    \n",
    "    Taxon: Apis mellifera\n",
    "    \n",
    "3. Create export"
   ]
  },
  {
   "cell_type": "markdown",
   "metadata": {},
   "source": [
    "### Step 2: import necessary packages and functions"
   ]
  },
  {
   "cell_type": "code",
   "execution_count": null,
   "metadata": {},
   "outputs": [],
   "source": [
    "import pandas as pd\n",
    "import numpy as np\n",
    "from datetime import datetime\n",
    "import seaborn as sns\n",
    "import matplotlib.pyplot as plt\n",
    "sns.set(style=\"ticks\", color_codes=True)"
   ]
  },
  {
   "cell_type": "markdown",
   "metadata": {},
   "source": [
    "### Step 3: unzip and upload dataset to project folder"
   ]
  },
  {
   "cell_type": "markdown",
   "metadata": {},
   "source": [
    "Import dataset"
   ]
  },
  {
   "cell_type": "code",
   "execution_count": 5,
   "metadata": {},
   "outputs": [],
   "source": [
    "iNat_monitor = pd.read_csv('observations-71449.csv', header=0, parse_dates=True, squeeze=True)"
   ]
  },
  {
   "cell_type": "code",
   "execution_count": 6,
   "metadata": {},
   "outputs": [
    {
     "data": {
      "text/html": [
       "<div>\n",
       "<style scoped>\n",
       "    .dataframe tbody tr th:only-of-type {\n",
       "        vertical-align: middle;\n",
       "    }\n",
       "\n",
       "    .dataframe tbody tr th {\n",
       "        vertical-align: top;\n",
       "    }\n",
       "\n",
       "    .dataframe thead th {\n",
       "        text-align: right;\n",
       "    }\n",
       "</style>\n",
       "<table border=\"1\" class=\"dataframe\">\n",
       "  <thead>\n",
       "    <tr style=\"text-align: right;\">\n",
       "      <th></th>\n",
       "      <th>id</th>\n",
       "      <th>observed_on_string</th>\n",
       "      <th>observed_on</th>\n",
       "      <th>time_observed_at</th>\n",
       "      <th>time_zone</th>\n",
       "      <th>out_of_range</th>\n",
       "      <th>user_id</th>\n",
       "      <th>user_login</th>\n",
       "      <th>created_at</th>\n",
       "      <th>updated_at</th>\n",
       "      <th>...</th>\n",
       "      <th>geoprivacy</th>\n",
       "      <th>taxon_geoprivacy</th>\n",
       "      <th>coordinates_obscured</th>\n",
       "      <th>positioning_method</th>\n",
       "      <th>positioning_device</th>\n",
       "      <th>species_guess</th>\n",
       "      <th>scientific_name</th>\n",
       "      <th>common_name</th>\n",
       "      <th>iconic_taxon_name</th>\n",
       "      <th>taxon_id</th>\n",
       "    </tr>\n",
       "  </thead>\n",
       "  <tbody>\n",
       "    <tr>\n",
       "      <th>0</th>\n",
       "      <td>330317</td>\n",
       "      <td>4/26/2013 12:10</td>\n",
       "      <td>4/26/2013</td>\n",
       "      <td>2013-04-26 16:10:28 UTC</td>\n",
       "      <td>Eastern Time (US &amp; Canada)</td>\n",
       "      <td>NaN</td>\n",
       "      <td>14389</td>\n",
       "      <td>sdroege</td>\n",
       "      <td>2013-07-12 19:32:49 UTC</td>\n",
       "      <td>2017-11-09 19:02:58 UTC</td>\n",
       "      <td>...</td>\n",
       "      <td>NaN</td>\n",
       "      <td>NaN</td>\n",
       "      <td>False</td>\n",
       "      <td>NaN</td>\n",
       "      <td>NaN</td>\n",
       "      <td>Honey Bee</td>\n",
       "      <td>Apis mellifera</td>\n",
       "      <td>Western Honey Bee</td>\n",
       "      <td>Insecta</td>\n",
       "      <td>47219</td>\n",
       "    </tr>\n",
       "    <tr>\n",
       "      <th>1</th>\n",
       "      <td>330329</td>\n",
       "      <td>4/25/2013 17:25</td>\n",
       "      <td>4/25/2013</td>\n",
       "      <td>2013-04-25 21:25:16 UTC</td>\n",
       "      <td>Eastern Time (US &amp; Canada)</td>\n",
       "      <td>NaN</td>\n",
       "      <td>14389</td>\n",
       "      <td>sdroege</td>\n",
       "      <td>2013-07-12 19:38:12 UTC</td>\n",
       "      <td>2017-11-09 19:03:00 UTC</td>\n",
       "      <td>...</td>\n",
       "      <td>NaN</td>\n",
       "      <td>NaN</td>\n",
       "      <td>False</td>\n",
       "      <td>NaN</td>\n",
       "      <td>NaN</td>\n",
       "      <td>Honey Bee</td>\n",
       "      <td>Apis mellifera</td>\n",
       "      <td>Western Honey Bee</td>\n",
       "      <td>Insecta</td>\n",
       "      <td>47219</td>\n",
       "    </tr>\n",
       "    <tr>\n",
       "      <th>2</th>\n",
       "      <td>534926</td>\n",
       "      <td>9/22/2012 10:16</td>\n",
       "      <td>9/22/2012</td>\n",
       "      <td>2012-09-22 14:16:01 UTC</td>\n",
       "      <td>Eastern Time (US &amp; Canada)</td>\n",
       "      <td>NaN</td>\n",
       "      <td>30601</td>\n",
       "      <td>calopteryx</td>\n",
       "      <td>2014-02-18 04:55:08 UTC</td>\n",
       "      <td>2017-11-09 19:24:06 UTC</td>\n",
       "      <td>...</td>\n",
       "      <td>NaN</td>\n",
       "      <td>NaN</td>\n",
       "      <td>False</td>\n",
       "      <td>NaN</td>\n",
       "      <td>NaN</td>\n",
       "      <td>Apis mellifera</td>\n",
       "      <td>Apis mellifera</td>\n",
       "      <td>Western Honey Bee</td>\n",
       "      <td>Insecta</td>\n",
       "      <td>47219</td>\n",
       "    </tr>\n",
       "    <tr>\n",
       "      <th>3</th>\n",
       "      <td>548320</td>\n",
       "      <td>6/11/2013 6:20</td>\n",
       "      <td>6/11/2013</td>\n",
       "      <td>2013-06-11 10:20:18 UTC</td>\n",
       "      <td>Eastern Time (US &amp; Canada)</td>\n",
       "      <td>NaN</td>\n",
       "      <td>30601</td>\n",
       "      <td>calopteryx</td>\n",
       "      <td>2014-03-02 04:21:14 UTC</td>\n",
       "      <td>2017-11-09 19:26:51 UTC</td>\n",
       "      <td>...</td>\n",
       "      <td>NaN</td>\n",
       "      <td>NaN</td>\n",
       "      <td>False</td>\n",
       "      <td>NaN</td>\n",
       "      <td>NaN</td>\n",
       "      <td>Apis mellifera</td>\n",
       "      <td>Apis mellifera</td>\n",
       "      <td>Western Honey Bee</td>\n",
       "      <td>Insecta</td>\n",
       "      <td>47219</td>\n",
       "    </tr>\n",
       "    <tr>\n",
       "      <th>4</th>\n",
       "      <td>775199</td>\n",
       "      <td>7/8/2014 18:00</td>\n",
       "      <td>7/8/2014</td>\n",
       "      <td>2014-07-08 22:00:00 UTC</td>\n",
       "      <td>Eastern Time (US &amp; Canada)</td>\n",
       "      <td>NaN</td>\n",
       "      <td>31092</td>\n",
       "      <td>ecologyelise</td>\n",
       "      <td>2014-07-08 22:25:03 UTC</td>\n",
       "      <td>2018-12-12 06:28:44 UTC</td>\n",
       "      <td>...</td>\n",
       "      <td>obscured</td>\n",
       "      <td>NaN</td>\n",
       "      <td>True</td>\n",
       "      <td>NaN</td>\n",
       "      <td>NaN</td>\n",
       "      <td>Western Honey Bee</td>\n",
       "      <td>Apis mellifera</td>\n",
       "      <td>Western Honey Bee</td>\n",
       "      <td>Insecta</td>\n",
       "      <td>47219</td>\n",
       "    </tr>\n",
       "  </tbody>\n",
       "</table>\n",
       "<p>5 rows × 36 columns</p>\n",
       "</div>"
      ],
      "text/plain": [
       "       id observed_on_string observed_on         time_observed_at  \\\n",
       "0  330317    4/26/2013 12:10   4/26/2013  2013-04-26 16:10:28 UTC   \n",
       "1  330329    4/25/2013 17:25   4/25/2013  2013-04-25 21:25:16 UTC   \n",
       "2  534926    9/22/2012 10:16   9/22/2012  2012-09-22 14:16:01 UTC   \n",
       "3  548320     6/11/2013 6:20   6/11/2013  2013-06-11 10:20:18 UTC   \n",
       "4  775199     7/8/2014 18:00    7/8/2014  2014-07-08 22:00:00 UTC   \n",
       "\n",
       "                    time_zone  out_of_range  user_id    user_login  \\\n",
       "0  Eastern Time (US & Canada)           NaN    14389       sdroege   \n",
       "1  Eastern Time (US & Canada)           NaN    14389       sdroege   \n",
       "2  Eastern Time (US & Canada)           NaN    30601    calopteryx   \n",
       "3  Eastern Time (US & Canada)           NaN    30601    calopteryx   \n",
       "4  Eastern Time (US & Canada)           NaN    31092  ecologyelise   \n",
       "\n",
       "                created_at               updated_at  ... geoprivacy  \\\n",
       "0  2013-07-12 19:32:49 UTC  2017-11-09 19:02:58 UTC  ...        NaN   \n",
       "1  2013-07-12 19:38:12 UTC  2017-11-09 19:03:00 UTC  ...        NaN   \n",
       "2  2014-02-18 04:55:08 UTC  2017-11-09 19:24:06 UTC  ...        NaN   \n",
       "3  2014-03-02 04:21:14 UTC  2017-11-09 19:26:51 UTC  ...        NaN   \n",
       "4  2014-07-08 22:25:03 UTC  2018-12-12 06:28:44 UTC  ...   obscured   \n",
       "\n",
       "  taxon_geoprivacy coordinates_obscured positioning_method  \\\n",
       "0              NaN                False                NaN   \n",
       "1              NaN                False                NaN   \n",
       "2              NaN                False                NaN   \n",
       "3              NaN                False                NaN   \n",
       "4              NaN                 True                NaN   \n",
       "\n",
       "   positioning_device      species_guess scientific_name        common_name  \\\n",
       "0                 NaN          Honey Bee  Apis mellifera  Western Honey Bee   \n",
       "1                 NaN          Honey Bee  Apis mellifera  Western Honey Bee   \n",
       "2                 NaN     Apis mellifera  Apis mellifera  Western Honey Bee   \n",
       "3                 NaN     Apis mellifera  Apis mellifera  Western Honey Bee   \n",
       "4                 NaN  Western Honey Bee  Apis mellifera  Western Honey Bee   \n",
       "\n",
       "   iconic_taxon_name  taxon_id  \n",
       "0            Insecta     47219  \n",
       "1            Insecta     47219  \n",
       "2            Insecta     47219  \n",
       "3            Insecta     47219  \n",
       "4            Insecta     47219  \n",
       "\n",
       "[5 rows x 36 columns]"
      ]
     },
     "execution_count": 6,
     "metadata": {},
     "output_type": "execute_result"
    }
   ],
   "source": [
    "# check first rows\n",
    "iNat_monitor.head()"
   ]
  },
  {
   "cell_type": "markdown",
   "metadata": {},
   "source": [
    "### Step 4: Create season variable "
   ]
  },
  {
   "cell_type": "code",
   "execution_count": 21,
   "metadata": {},
   "outputs": [
    {
     "name": "stdout",
     "output_type": "stream",
     "text": [
      "  observed_on  user_id  count\n",
      "0  2013-04-26    14389      1\n",
      "1  2013-04-25    14389      1\n",
      "2  2012-09-22    30601      1\n",
      "3  2013-06-11    30601      1\n",
      "4  2014-07-08    31092      1\n"
     ]
    }
   ],
   "source": [
    "#convert pandas series to dataframe and observed_on to datetime64\n",
    "df_iNat = pd.DataFrame({'observed_on':iNat_monitor.observed_on, 'user_id':iNat_monitor.user_id})\n",
    "df_iNat[\"observed_on\"] = df_iNat[\"observed_on\"].astype(\"datetime64\")\n",
    "\n",
    "# Observation count variable\n",
    "df_iNat['count'] = 1\n",
    "\n",
    "print(df_iNat.head())"
   ]
  },
  {
   "cell_type": "code",
   "execution_count": 22,
   "metadata": {},
   "outputs": [],
   "source": [
    "# Convert observed_on to string\n",
    "df_iNat['observed_on'] = df_iNat.observed_on.astype(str)"
   ]
  },
  {
   "cell_type": "code",
   "execution_count": 33,
   "metadata": {},
   "outputs": [
    {
     "name": "stderr",
     "output_type": "stream",
     "text": [
      "'c' argument looks like a single numeric RGB or RGBA sequence, which should be avoided as value-mapping will have precedence in case its length matches with 'x' & 'y'.  Please use a 2-D array with a single row if you really want to specify the same RGB or RGBA value for all points.\n"
     ]
    },
    {
     "data": {
      "text/plain": [
       "<matplotlib.axes._subplots.AxesSubplot at 0x19359e826a0>"
      ]
     },
     "execution_count": 33,
     "metadata": {},
     "output_type": "execute_result"
    },
    {
     "data": {
      "image/png": "[encoded data removed]",
      "text/plain": [
       "<Figure size 432x288 with 1 Axes>"
      ]
     },
     "metadata": {
      "needs_background": "light"
     },
     "output_type": "display_data"
    }
   ],
   "source": [
    "# Create season variable as new_month (1 for Dec-Feb, 2 for Mar-May, 3 for Jun-Aug, 4 for Sep-Nov)\n",
    "df_iNat['month'] = df_iNat.observed_on.str.slice(start=5, stop=7).astype(int)\n",
    "df_iNat['season_month'] = df_iNat.month.apply(lambda x: (x%12 + 3)//3)\n",
    "\n",
    "# check\n",
    "df_iNat.plot.scatter(x='month',y='season_month')"
   ]
  },
  {
   "cell_type": "code",
   "execution_count": 34,
   "metadata": {},
   "outputs": [],
   "source": [
    "# now rename to season names\n",
    "df_iNat.loc[df_iNat['season_month'] ==2, 'season'] = 'spring'\n",
    "df_iNat.loc[df_iNat['season_month'] ==3, 'season'] = 'summer'\n",
    "df_iNat.loc[df_iNat['season_month'] ==4, 'season'] = 'fall'\n",
    "df_iNat.loc[df_iNat['season_month'] ==1, 'season'] = 'winter'"
   ]
  },
  {
   "cell_type": "code",
   "execution_count": 35,
   "metadata": {},
   "outputs": [
    {
     "data": {
      "text/plain": [
       "<seaborn.axisgrid.FacetGrid at 0x19359e3a208>"
      ]
     },
     "execution_count": 35,
     "metadata": {},
     "output_type": "execute_result"
    },
    {
     "data": {
      "image/png": "[encoded data removed]",
      "text/plain": [
       "<Figure size 360x360 with 1 Axes>"
      ]
     },
     "metadata": {
      "needs_background": "light"
     },
     "output_type": "display_data"
    }
   ],
   "source": [
    "# check that 2 corresponds to spring, 3 to summer, 4 to fall, 1 to winter\n",
    "sns.catplot(x=\"season\", y=\"season_month\", data=df_iNat)"
   ]
  },
  {
   "cell_type": "code",
   "execution_count": 36,
   "metadata": {},
   "outputs": [
    {
     "name": "stdout",
     "output_type": "stream",
     "text": [
      "  observed_on  user_id  count  month  new_month  season  year  season_month\n",
      "0  2013-04-26    14389      1      4          2  spring  2013             2\n",
      "1  2013-04-25    14389      1      4          2  spring  2013             2\n",
      "2  2012-09-22    30601      1      9          4    fall  2012             4\n",
      "3  2013-06-11    30601      1      6          3  summer  2013             3\n",
      "4  2014-07-08    31092      1      7          3  summer  2014             3\n"
     ]
    }
   ],
   "source": [
    "# Get a variable for year\n",
    "df_iNat['year'] = df_iNat.observed_on.str.slice(0,4)\n",
    "# check\n",
    "print(df_iNat.head())"
   ]
  },
  {
   "cell_type": "markdown",
   "metadata": {},
   "source": [
    "### Step 5: Adjust number of observations by number of users"
   ]
  },
  {
   "cell_type": "code",
   "execution_count": 42,
   "metadata": {},
   "outputs": [
    {
     "name": "stdout",
     "output_type": "stream",
     "text": [
      "On branch master\n",
      "Your branch is up to date with 'origin/master'.\n",
      "\n",
      "Changes not staged for commit:\n",
      "\tmodified:   .ipynb_checkpoints/DMV_bees-checkpoint.ipynb\n",
      "\tmodified:   DMV_bees.ipynb\n",
      "\tmodified:   README.md\n",
      "\n",
      "Untracked files:\n",
      "\t.ipynb_checkpoints/README-checkpoint.md\n",
      "\n",
      "no changes added to commit\n"
     ]
    }
   ],
   "source": [
    "# update git\n",
    "!git commit -m \"add season\""
   ]
  },
  {
   "cell_type": "code",
   "execution_count": 41,
   "metadata": {},
   "outputs": [
    {
     "name": "stderr",
     "output_type": "stream",
     "text": [
      "To https://github.com/caroschwedh/BIOF309-final-project.git\n",
      " ! [rejected]        master -> master (fetch first)\n",
      "error: failed to push some refs to 'https://github.com/caroschwedh/BIOF309-final-project.git'\n",
      "hint: Updates were rejected because the remote contains work that you do\n",
      "hint: not have locally. This is usually caused by another repository pushing\n",
      "hint: to the same ref. You may want to first integrate the remote changes\n",
      "hint: (e.g., 'git pull ...') before pushing again.\n",
      "hint: See the 'Note about fast-forwards' in 'git push --help' for details.\n"
     ]
    }
   ],
   "source": [
    "!git push"
   ]
  },
  {
   "cell_type": "code",
   "execution_count": null,
   "metadata": {},
   "outputs": [],
   "source": []
  },
  {
   "cell_type": "code",
   "execution_count": null,
   "metadata": {},
   "outputs": [],
   "source": []
  },
  {
   "cell_type": "code",
   "execution_count": 14,
   "metadata": {},
   "outputs": [
    {
     "data": {
      "text/plain": [
       "<matplotlib.axes._subplots.AxesSubplot at 0x1f03cd0e1d0>"
      ]
     },
     "execution_count": 14,
     "metadata": {},
     "output_type": "execute_result"
    },
    {
     "data": {
      "image/png": "[encoded data removed]",
      "text/plain": [
       "<Figure size 432x288 with 1 Axes>"
      ]
     },
     "metadata": {
      "needs_background": "light"
     },
     "output_type": "display_data"
    }
   ],
   "source": [
    "iNat_monitor[\"observed_on\"] = iNat_monitor[\"observed_on\"].astype(\"datetime64\")\n",
    "iNat_monitor[\"observed_on\"].groupby([iNat_monitor[\"observed_on\"].dt.year, iNat_monitor[\"observed_on\"].dt.month]).count().plot(kind=\"bar\")"
   ]
  }
 ],
 "metadata": {
  "kernelspec": {
   "display_name": "Python 3",
   "language": "python",
   "name": "python3"
  },
  "language_info": {
   "codemirror_mode": {
    "name": "ipython",
    "version": 3
   },
   "file_extension": ".py",
   "mimetype": "text/x-python",
   "name": "python",
   "nbconvert_exporter": "python",
   "pygments_lexer": "ipython3",
   "version": "3.7.3"
  }
 },
 "nbformat": 4,
 "nbformat_minor": 4
}
