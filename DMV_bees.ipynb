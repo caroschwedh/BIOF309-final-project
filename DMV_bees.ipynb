{
 "cells": [
  {
   "cell_type": "markdown",
   "metadata": {},
   "source": [
    "Check working directory"
   ]
  },
  {
   "cell_type": "code",
   "execution_count": null,
   "metadata": {},
   "outputs": [],
   "source": [
    "#!pwd"
   ]
  },
  {
   "cell_type": "markdown",
   "metadata": {},
   "source": [
    "Set branch master at the beginning (only need to run once)."
   ]
  },
  {
   "cell_type": "code",
   "execution_count": null,
   "metadata": {},
   "outputs": [],
   "source": [
    "# make sure you are in the right working directory"
   ]
  },
  {
   "cell_type": "code",
   "execution_count": 38,
   "metadata": {},
   "outputs": [
    {
     "name": "stdout",
     "output_type": "stream",
     "text": [
      "/c/Users/schwedhelmramc2/Documents/Python Scripts/Final project\n"
     ]
    }
   ],
   "source": [
    "!pwd"
   ]
  },
  {
   "cell_type": "code",
   "execution_count": 37,
   "metadata": {},
   "outputs": [
    {
     "name": "stderr",
     "output_type": "stream",
     "text": [
      "fatal: remote origin already exists.\n"
     ]
    }
   ],
   "source": [
    "!git remote add origin https://github.com/caroschwedh/BIOF309-final-project.git"
   ]
  },
  {
   "cell_type": "code",
   "execution_count": 104,
   "metadata": {},
   "outputs": [],
   "source": [
    "!git add DMV_bees.ipynb\n",
    "!git add README.md"
   ]
  },
  {
   "cell_type": "code",
   "execution_count": 105,
   "metadata": {},
   "outputs": [
    {
     "name": "stdout",
     "output_type": "stream",
     "text": [
      "On branch master\n",
      "Changes not staged for commit:\n",
      "\tmodified:   DMV_bees.ipynb\n",
      "\n",
      "no changes added to commit\n"
     ]
    }
   ],
   "source": [
    "!git commit -m \"first pushed commit\""
   ]
  },
  {
   "cell_type": "code",
   "execution_count": null,
   "metadata": {},
   "outputs": [],
   "source": [
    "!git push"
   ]
  },
  {
   "cell_type": "code",
   "execution_count": 106,
   "metadata": {},
   "outputs": [
    {
     "name": "stdout",
     "output_type": "stream",
     "text": [
      "origin\tgit@github.com:caroschwedh/BIOF309-final-project.git (fetch)\n",
      "origin\tgit@github.com:caroschwedh/BIOF309-final-project.git (push)\n"
     ]
    }
   ],
   "source": [
    "# for cheching origin:\n",
    "#!git remote -v"
   ]
  },
  {
   "cell_type": "code",
   "execution_count": 110,
   "metadata": {},
   "outputs": [
    {
     "name": "stderr",
     "output_type": "stream",
     "text": [
      "fatal: No such remote: 'origin'\n"
     ]
    }
   ],
   "source": [
    "# for revmoving origin (if you made a mistake when you added it)\n",
    "#!git remote rm origin"
   ]
  },
  {
   "cell_type": "code",
   "execution_count": 43,
   "metadata": {},
   "outputs": [
    {
     "name": "stdout",
     "output_type": "stream",
     "text": [
      "Branch 'master' set up to track remote branch 'master' from 'origin'.\n"
     ]
    },
    {
     "name": "stderr",
     "output_type": "stream",
     "text": [
      "To https://github.com/caroschwedh/BIOF309-final-project.git\n",
      " + 9ac6958...bdd547f master -> master (forced update)\n"
     ]
    }
   ],
   "source": [
    "# forcing push to new origin master (avoid doing this, as it may rewrite and result in loss of commits)\n",
    "#!git push -uf origin master"
   ]
  },
  {
   "cell_type": "code",
   "execution_count": 44,
   "metadata": {},
   "outputs": [
    {
     "name": "stdout",
     "output_type": "stream",
     "text": [
      "On branch master\n",
      "Your branch is up to date with 'origin/master'.\n",
      "\n",
      "Changes not staged for commit:\n",
      "  (use \"git add <file>...\" to update what will be committed)\n",
      "  (use \"git restore <file>...\" to discard changes in working directory)\n",
      "\tmodified:   .ipynb_checkpoints/DMV_bees-checkpoint.ipynb\n",
      "\tmodified:   DMV_bees.ipynb\n",
      "\tmodified:   README.md\n",
      "\n",
      "Untracked files:\n",
      "  (use \"git add <file>...\" to include in what will be committed)\n",
      "\t.ipynb_checkpoints/README-checkpoint.md\n",
      "\n",
      "no changes added to commit (use \"git add\" and/or \"git commit -a\")\n"
     ]
    }
   ],
   "source": [
    "!git status"
   ]
  },
  {
   "cell_type": "markdown",
   "metadata": {},
   "source": [
    "### Step 1: download pregenerated dataset from iNaturalist as follows:"
   ]
  },
  {
   "cell_type": "markdown",
   "metadata": {},
   "source": [
    "1. Go to iNaturalist.org and sign into your account.\n",
    "2. Go to observations > export and create a Query with the following criteria in the following fields:\n",
    "\n",
    "    Filter: quality grade Research\n",
    "    \n",
    "    Place: DMV, US\n",
    "    \n",
    "    Taxon: Apis mellifera\n",
    "    \n",
    "3. Create export"
   ]
  },
  {
   "cell_type": "markdown",
   "metadata": {},
   "source": [
    "### Step 2: import necessary packages and functions"
   ]
  },
  {
   "cell_type": "code",
   "execution_count": 2,
   "metadata": {},
   "outputs": [],
   "source": [
    "import pandas as pd\n",
    "import numpy as np\n",
    "from datetime import datetime\n",
    "import seaborn as sns\n",
    "import matplotlib.pyplot as plt\n",
    "sns.set(style=\"ticks\", color_codes=True)"
   ]
  },
  {
   "cell_type": "markdown",
   "metadata": {},
   "source": [
    "### Step 3: unzip and upload dataset to project folder"
   ]
  },
  {
   "cell_type": "markdown",
   "metadata": {},
   "source": [
    "Import dataset"
   ]
  },
  {
   "cell_type": "code",
   "execution_count": 3,
   "metadata": {},
   "outputs": [],
   "source": [
    "iNat_monitor = pd.read_csv('observations-71449.csv', header=0, parse_dates=True, squeeze=True)"
   ]
  },
  {
   "cell_type": "code",
   "execution_count": 4,
   "metadata": {},
   "outputs": [
    {
     "data": {
      "text/html": [
       "<div>\n",
       "<style scoped>\n",
       "    .dataframe tbody tr th:only-of-type {\n",
       "        vertical-align: middle;\n",
       "    }\n",
       "\n",
       "    .dataframe tbody tr th {\n",
       "        vertical-align: top;\n",
       "    }\n",
       "\n",
       "    .dataframe thead th {\n",
       "        text-align: right;\n",
       "    }\n",
       "</style>\n",
       "<table border=\"1\" class=\"dataframe\">\n",
       "  <thead>\n",
       "    <tr style=\"text-align: right;\">\n",
       "      <th></th>\n",
       "      <th>id</th>\n",
       "      <th>observed_on_string</th>\n",
       "      <th>observed_on</th>\n",
       "      <th>time_observed_at</th>\n",
       "      <th>time_zone</th>\n",
       "      <th>out_of_range</th>\n",
       "      <th>user_id</th>\n",
       "      <th>user_login</th>\n",
       "      <th>created_at</th>\n",
       "      <th>updated_at</th>\n",
       "      <th>...</th>\n",
       "      <th>geoprivacy</th>\n",
       "      <th>taxon_geoprivacy</th>\n",
       "      <th>coordinates_obscured</th>\n",
       "      <th>positioning_method</th>\n",
       "      <th>positioning_device</th>\n",
       "      <th>species_guess</th>\n",
       "      <th>scientific_name</th>\n",
       "      <th>common_name</th>\n",
       "      <th>iconic_taxon_name</th>\n",
       "      <th>taxon_id</th>\n",
       "    </tr>\n",
       "  </thead>\n",
       "  <tbody>\n",
       "    <tr>\n",
       "      <th>0</th>\n",
       "      <td>330317</td>\n",
       "      <td>4/26/2013 12:10</td>\n",
       "      <td>4/26/2013</td>\n",
       "      <td>2013-04-26 16:10:28 UTC</td>\n",
       "      <td>Eastern Time (US &amp; Canada)</td>\n",
       "      <td>NaN</td>\n",
       "      <td>14389</td>\n",
       "      <td>sdroege</td>\n",
       "      <td>2013-07-12 19:32:49 UTC</td>\n",
       "      <td>2017-11-09 19:02:58 UTC</td>\n",
       "      <td>...</td>\n",
       "      <td>NaN</td>\n",
       "      <td>NaN</td>\n",
       "      <td>False</td>\n",
       "      <td>NaN</td>\n",
       "      <td>NaN</td>\n",
       "      <td>Honey Bee</td>\n",
       "      <td>Apis mellifera</td>\n",
       "      <td>Western Honey Bee</td>\n",
       "      <td>Insecta</td>\n",
       "      <td>47219</td>\n",
       "    </tr>\n",
       "    <tr>\n",
       "      <th>1</th>\n",
       "      <td>330329</td>\n",
       "      <td>4/25/2013 17:25</td>\n",
       "      <td>4/25/2013</td>\n",
       "      <td>2013-04-25 21:25:16 UTC</td>\n",
       "      <td>Eastern Time (US &amp; Canada)</td>\n",
       "      <td>NaN</td>\n",
       "      <td>14389</td>\n",
       "      <td>sdroege</td>\n",
       "      <td>2013-07-12 19:38:12 UTC</td>\n",
       "      <td>2017-11-09 19:03:00 UTC</td>\n",
       "      <td>...</td>\n",
       "      <td>NaN</td>\n",
       "      <td>NaN</td>\n",
       "      <td>False</td>\n",
       "      <td>NaN</td>\n",
       "      <td>NaN</td>\n",
       "      <td>Honey Bee</td>\n",
       "      <td>Apis mellifera</td>\n",
       "      <td>Western Honey Bee</td>\n",
       "      <td>Insecta</td>\n",
       "      <td>47219</td>\n",
       "    </tr>\n",
       "    <tr>\n",
       "      <th>2</th>\n",
       "      <td>534926</td>\n",
       "      <td>9/22/2012 10:16</td>\n",
       "      <td>9/22/2012</td>\n",
       "      <td>2012-09-22 14:16:01 UTC</td>\n",
       "      <td>Eastern Time (US &amp; Canada)</td>\n",
       "      <td>NaN</td>\n",
       "      <td>30601</td>\n",
       "      <td>calopteryx</td>\n",
       "      <td>2014-02-18 04:55:08 UTC</td>\n",
       "      <td>2017-11-09 19:24:06 UTC</td>\n",
       "      <td>...</td>\n",
       "      <td>NaN</td>\n",
       "      <td>NaN</td>\n",
       "      <td>False</td>\n",
       "      <td>NaN</td>\n",
       "      <td>NaN</td>\n",
       "      <td>Apis mellifera</td>\n",
       "      <td>Apis mellifera</td>\n",
       "      <td>Western Honey Bee</td>\n",
       "      <td>Insecta</td>\n",
       "      <td>47219</td>\n",
       "    </tr>\n",
       "    <tr>\n",
       "      <th>3</th>\n",
       "      <td>548320</td>\n",
       "      <td>6/11/2013 6:20</td>\n",
       "      <td>6/11/2013</td>\n",
       "      <td>2013-06-11 10:20:18 UTC</td>\n",
       "      <td>Eastern Time (US &amp; Canada)</td>\n",
       "      <td>NaN</td>\n",
       "      <td>30601</td>\n",
       "      <td>calopteryx</td>\n",
       "      <td>2014-03-02 04:21:14 UTC</td>\n",
       "      <td>2017-11-09 19:26:51 UTC</td>\n",
       "      <td>...</td>\n",
       "      <td>NaN</td>\n",
       "      <td>NaN</td>\n",
       "      <td>False</td>\n",
       "      <td>NaN</td>\n",
       "      <td>NaN</td>\n",
       "      <td>Apis mellifera</td>\n",
       "      <td>Apis mellifera</td>\n",
       "      <td>Western Honey Bee</td>\n",
       "      <td>Insecta</td>\n",
       "      <td>47219</td>\n",
       "    </tr>\n",
       "    <tr>\n",
       "      <th>4</th>\n",
       "      <td>775199</td>\n",
       "      <td>7/8/2014 18:00</td>\n",
       "      <td>7/8/2014</td>\n",
       "      <td>2014-07-08 22:00:00 UTC</td>\n",
       "      <td>Eastern Time (US &amp; Canada)</td>\n",
       "      <td>NaN</td>\n",
       "      <td>31092</td>\n",
       "      <td>ecologyelise</td>\n",
       "      <td>2014-07-08 22:25:03 UTC</td>\n",
       "      <td>2018-12-12 06:28:44 UTC</td>\n",
       "      <td>...</td>\n",
       "      <td>obscured</td>\n",
       "      <td>NaN</td>\n",
       "      <td>True</td>\n",
       "      <td>NaN</td>\n",
       "      <td>NaN</td>\n",
       "      <td>Western Honey Bee</td>\n",
       "      <td>Apis mellifera</td>\n",
       "      <td>Western Honey Bee</td>\n",
       "      <td>Insecta</td>\n",
       "      <td>47219</td>\n",
       "    </tr>\n",
       "  </tbody>\n",
       "</table>\n",
       "<p>5 rows × 36 columns</p>\n",
       "</div>"
      ],
      "text/plain": [
       "       id observed_on_string observed_on         time_observed_at  \\\n",
       "0  330317    4/26/2013 12:10   4/26/2013  2013-04-26 16:10:28 UTC   \n",
       "1  330329    4/25/2013 17:25   4/25/2013  2013-04-25 21:25:16 UTC   \n",
       "2  534926    9/22/2012 10:16   9/22/2012  2012-09-22 14:16:01 UTC   \n",
       "3  548320     6/11/2013 6:20   6/11/2013  2013-06-11 10:20:18 UTC   \n",
       "4  775199     7/8/2014 18:00    7/8/2014  2014-07-08 22:00:00 UTC   \n",
       "\n",
       "                    time_zone  out_of_range  user_id    user_login  \\\n",
       "0  Eastern Time (US & Canada)           NaN    14389       sdroege   \n",
       "1  Eastern Time (US & Canada)           NaN    14389       sdroege   \n",
       "2  Eastern Time (US & Canada)           NaN    30601    calopteryx   \n",
       "3  Eastern Time (US & Canada)           NaN    30601    calopteryx   \n",
       "4  Eastern Time (US & Canada)           NaN    31092  ecologyelise   \n",
       "\n",
       "                created_at               updated_at  ... geoprivacy  \\\n",
       "0  2013-07-12 19:32:49 UTC  2017-11-09 19:02:58 UTC  ...        NaN   \n",
       "1  2013-07-12 19:38:12 UTC  2017-11-09 19:03:00 UTC  ...        NaN   \n",
       "2  2014-02-18 04:55:08 UTC  2017-11-09 19:24:06 UTC  ...        NaN   \n",
       "3  2014-03-02 04:21:14 UTC  2017-11-09 19:26:51 UTC  ...        NaN   \n",
       "4  2014-07-08 22:25:03 UTC  2018-12-12 06:28:44 UTC  ...   obscured   \n",
       "\n",
       "  taxon_geoprivacy coordinates_obscured positioning_method  \\\n",
       "0              NaN                False                NaN   \n",
       "1              NaN                False                NaN   \n",
       "2              NaN                False                NaN   \n",
       "3              NaN                False                NaN   \n",
       "4              NaN                 True                NaN   \n",
       "\n",
       "   positioning_device      species_guess scientific_name        common_name  \\\n",
       "0                 NaN          Honey Bee  Apis mellifera  Western Honey Bee   \n",
       "1                 NaN          Honey Bee  Apis mellifera  Western Honey Bee   \n",
       "2                 NaN     Apis mellifera  Apis mellifera  Western Honey Bee   \n",
       "3                 NaN     Apis mellifera  Apis mellifera  Western Honey Bee   \n",
       "4                 NaN  Western Honey Bee  Apis mellifera  Western Honey Bee   \n",
       "\n",
       "   iconic_taxon_name  taxon_id  \n",
       "0            Insecta     47219  \n",
       "1            Insecta     47219  \n",
       "2            Insecta     47219  \n",
       "3            Insecta     47219  \n",
       "4            Insecta     47219  \n",
       "\n",
       "[5 rows x 36 columns]"
      ]
     },
     "execution_count": 4,
     "metadata": {},
     "output_type": "execute_result"
    }
   ],
   "source": [
    "# check first rows\n",
    "iNat_monitor.head()"
   ]
  },
  {
   "cell_type": "markdown",
   "metadata": {},
   "source": [
    "### Step 4: Create season variable "
   ]
  },
  {
   "cell_type": "code",
   "execution_count": 5,
   "metadata": {},
   "outputs": [
    {
     "name": "stdout",
     "output_type": "stream",
     "text": [
      "  observed_on  user_id  count\n",
      "0  2013-04-26    14389      1\n",
      "1  2013-04-25    14389      1\n",
      "2  2012-09-22    30601      1\n",
      "3  2013-06-11    30601      1\n",
      "4  2014-07-08    31092      1\n"
     ]
    }
   ],
   "source": [
    "# Convert pandas series to dataframe and observed_on to datetime64\n",
    "df_iNat = pd.DataFrame({'observed_on':iNat_monitor.observed_on, 'user_id':iNat_monitor.user_id})\n",
    "df_iNat[\"observed_on\"] = df_iNat[\"observed_on\"].astype(\"datetime64\")\n",
    "\n",
    "# Observation count variable\n",
    "df_iNat['count'] = 1\n",
    "\n",
    "print(df_iNat.head())"
   ]
  },
  {
   "cell_type": "code",
   "execution_count": 6,
   "metadata": {},
   "outputs": [],
   "source": [
    "# Convert observed_on to string\n",
    "df_iNat['observed_on'] = df_iNat.observed_on.astype(str)"
   ]
  },
  {
   "cell_type": "code",
   "execution_count": 17,
   "metadata": {},
   "outputs": [
    {
     "name": "stderr",
     "output_type": "stream",
     "text": [
      "'c' argument looks like a single numeric RGB or RGBA sequence, which should be avoided as value-mapping will have precedence in case its length matches with 'x' & 'y'.  Please use a 2-D array with a single row if you really want to specify the same RGB or RGBA value for all points.\n"
     ]
    },
    {
     "data": {
      "text/plain": [
       "<matplotlib.axes._subplots.AxesSubplot at 0x18f291b6f98>"
      ]
     },
     "execution_count": 17,
     "metadata": {},
     "output_type": "execute_result"
    },
    {
     "data": {
      "image/png": "[encoded data removed]",
      "text/plain": [
       "<Figure size 432x288 with 1 Axes>"
      ]
     },
     "metadata": {
      "needs_background": "light"
     },
     "output_type": "display_data"
    }
   ],
   "source": [
    "# Create season variable as new_month (1 for Dec-Feb, 2 for Mar-May, 3 for Jun-Aug, 4 for Sep-Nov)\n",
    "df_iNat['month'] = df_iNat.observed_on.str.slice(start=5, stop=7).astype(int)\n",
    "df_iNat['season_month'] = df_iNat.month.apply(lambda x: (x%12 + 3)//3)\n",
    "\n",
    "# Check that the above operation produces plausible results\n",
    "assert df_iNat.season_month.all() > 0\n",
    "assert df_iNat.season_month.all() <= 4\n",
    "\n",
    "# Visual check\n",
    "df_iNat.plot.scatter(x='month',y='season_month')"
   ]
  },
  {
   "cell_type": "code",
   "execution_count": 18,
   "metadata": {},
   "outputs": [],
   "source": [
    "# now rename to season names\n",
    "df_iNat.loc[df_iNat['season_month'] ==2, 'season'] = 'spring'\n",
    "df_iNat.loc[df_iNat['season_month'] ==3, 'season'] = 'summer'\n",
    "df_iNat.loc[df_iNat['season_month'] ==4, 'season'] = 'fall'\n",
    "df_iNat.loc[df_iNat['season_month'] ==1, 'season'] = 'winter'"
   ]
  },
  {
   "cell_type": "code",
   "execution_count": 19,
   "metadata": {},
   "outputs": [
    {
     "data": {
      "text/plain": [
       "<seaborn.axisgrid.FacetGrid at 0x18f291c8f98>"
      ]
     },
     "execution_count": 19,
     "metadata": {},
     "output_type": "execute_result"
    },
    {
     "data": {
      "image/png": "[encoded data removed]",
      "text/plain": [
       "<Figure size 360x360 with 1 Axes>"
      ]
     },
     "metadata": {
      "needs_background": "light"
     },
     "output_type": "display_data"
    }
   ],
   "source": [
    "# check that 2 corresponds to spring, 3 to summer, 4 to fall, 1 to winter\n",
    "sns.catplot(x=\"season\", y=\"season_month\", data=df_iNat)"
   ]
  },
  {
   "cell_type": "code",
   "execution_count": 20,
   "metadata": {},
   "outputs": [
    {
     "name": "stdout",
     "output_type": "stream",
     "text": [
      "  observed_on  user_id  count  month  season_month  season  year\n",
      "0  2013-04-26    14389      1      4             2  spring  2013\n",
      "1  2013-04-25    14389      1      4             2  spring  2013\n",
      "2  2012-09-22    30601      1      9             4    fall  2012\n",
      "3  2013-06-11    30601      1      6             3  summer  2013\n",
      "4  2014-07-08    31092      1      7             3  summer  2014\n"
     ]
    }
   ],
   "source": [
    "# Get a variable for year\n",
    "df_iNat['year'] = df_iNat.observed_on.str.slice(0,4)\n",
    "\n",
    "# Check dataframe format\n",
    "print(df_iNat.head())"
   ]
  },
  {
   "cell_type": "markdown",
   "metadata": {},
   "source": [
    "### Step 5: Adjust number of observations by number of users"
   ]
  },
  {
   "cell_type": "code",
   "execution_count": 27,
   "metadata": {},
   "outputs": [],
   "source": [
    "# Sum observations (count) by season (using season_month) and year\n",
    "df_iNat['obs_perseason'] = df_iNat.groupby(['year', 'season_month'])['count'].transform('sum')\n",
    "\n",
    "# Count of unique values for user_id (number of users) per season, year\n",
    "df_iNat['user_count'] = df_iNat.groupby(['year', 'season_month'])['user_id'].transform('nunique')\n",
    "\n",
    "# Check that user count is above zero (and no missings) to avoid division by zero in next cell\n",
    "assert df_iNat['user_count'].all() > 0\n",
    "assert df_iNat['user_count'].all() != 'NaN'"
   ]
  },
  {
   "cell_type": "code",
   "execution_count": 28,
   "metadata": {},
   "outputs": [],
   "source": [
    "# Create variable for adusted observations (observations per number of iNaturalist observers at each time point)\n",
    "df_iNat['adj_obs'] = (df_iNat['obs_perseason']/df_iNat['user_count'])\n"
   ]
  },
  {
   "cell_type": "markdown",
   "metadata": {},
   "source": [
    "### Step 6: manipulate dataframe (prepare for creating graph)"
   ]
  },
  {
   "cell_type": "markdown",
   "metadata": {},
   "source": [
    "First, keep only unique values (condense into one row per season, year)"
   ]
  },
  {
   "cell_type": "code",
   "execution_count": 29,
   "metadata": {},
   "outputs": [],
   "source": [
    "iNat_complete = df_iNat.drop_duplicates(subset=['year','season_month'], keep='first')"
   ]
  },
  {
   "cell_type": "markdown",
   "metadata": {},
   "source": [
    "Then, order by date (observed_on)"
   ]
  },
  {
   "cell_type": "code",
   "execution_count": 30,
   "metadata": {},
   "outputs": [],
   "source": [
    "# Now that we don't have repeated rows for the same date, we can order by date\n",
    "iNat_complete = iNat_complete.sort_values(by='observed_on')"
   ]
  },
  {
   "cell_type": "markdown",
   "metadata": {},
   "source": [
    "Concatenate season and year variables"
   ]
  },
  {
   "cell_type": "code",
   "execution_count": 31,
   "metadata": {},
   "outputs": [],
   "source": [
    "iNat_complete['season_year'] = iNat_complete['season'] + ', ' + iNat_complete['year']\n",
    "\n",
    "# Make new index in next step\n",
    "iNat_complete = iNat_complete.reset_index(drop=True)"
   ]
  },
  {
   "cell_type": "markdown",
   "metadata": {},
   "source": [
    "Drop columns not needed, rename variables for graph labels"
   ]
  },
  {
   "cell_type": "code",
   "execution_count": 32,
   "metadata": {},
   "outputs": [
    {
     "data": {
      "text/html": [
       "<div>\n",
       "<style scoped>\n",
       "    .dataframe tbody tr th:only-of-type {\n",
       "        vertical-align: middle;\n",
       "    }\n",
       "\n",
       "    .dataframe tbody tr th {\n",
       "        vertical-align: top;\n",
       "    }\n",
       "\n",
       "    .dataframe thead th {\n",
       "        text-align: right;\n",
       "    }\n",
       "</style>\n",
       "<table border=\"1\" class=\"dataframe\">\n",
       "  <thead>\n",
       "    <tr style=\"text-align: right;\">\n",
       "      <th></th>\n",
       "      <th>Date of observation</th>\n",
       "      <th>Number of observations</th>\n",
       "      <th>Observations per user</th>\n",
       "    </tr>\n",
       "  </thead>\n",
       "  <tbody>\n",
       "    <tr>\n",
       "      <th>0</th>\n",
       "      <td>summer, 2005</td>\n",
       "      <td>3</td>\n",
       "      <td>3.000000</td>\n",
       "    </tr>\n",
       "    <tr>\n",
       "      <th>1</th>\n",
       "      <td>summer, 2006</td>\n",
       "      <td>1</td>\n",
       "      <td>1.000000</td>\n",
       "    </tr>\n",
       "    <tr>\n",
       "      <th>2</th>\n",
       "      <td>spring, 2010</td>\n",
       "      <td>1</td>\n",
       "      <td>1.000000</td>\n",
       "    </tr>\n",
       "    <tr>\n",
       "      <th>3</th>\n",
       "      <td>fall, 2010</td>\n",
       "      <td>1</td>\n",
       "      <td>1.000000</td>\n",
       "    </tr>\n",
       "    <tr>\n",
       "      <th>4</th>\n",
       "      <td>summer, 2011</td>\n",
       "      <td>1</td>\n",
       "      <td>1.000000</td>\n",
       "    </tr>\n",
       "    <tr>\n",
       "      <th>5</th>\n",
       "      <td>fall, 2011</td>\n",
       "      <td>2</td>\n",
       "      <td>1.000000</td>\n",
       "    </tr>\n",
       "    <tr>\n",
       "      <th>6</th>\n",
       "      <td>spring, 2012</td>\n",
       "      <td>1</td>\n",
       "      <td>1.000000</td>\n",
       "    </tr>\n",
       "    <tr>\n",
       "      <th>7</th>\n",
       "      <td>summer, 2012</td>\n",
       "      <td>1</td>\n",
       "      <td>1.000000</td>\n",
       "    </tr>\n",
       "    <tr>\n",
       "      <th>8</th>\n",
       "      <td>fall, 2012</td>\n",
       "      <td>2</td>\n",
       "      <td>1.000000</td>\n",
       "    </tr>\n",
       "    <tr>\n",
       "      <th>9</th>\n",
       "      <td>spring, 2013</td>\n",
       "      <td>2</td>\n",
       "      <td>2.000000</td>\n",
       "    </tr>\n",
       "    <tr>\n",
       "      <th>10</th>\n",
       "      <td>summer, 2013</td>\n",
       "      <td>3</td>\n",
       "      <td>1.000000</td>\n",
       "    </tr>\n",
       "    <tr>\n",
       "      <th>11</th>\n",
       "      <td>fall, 2013</td>\n",
       "      <td>1</td>\n",
       "      <td>1.000000</td>\n",
       "    </tr>\n",
       "    <tr>\n",
       "      <th>12</th>\n",
       "      <td>summer, 2014</td>\n",
       "      <td>7</td>\n",
       "      <td>1.750000</td>\n",
       "    </tr>\n",
       "    <tr>\n",
       "      <th>13</th>\n",
       "      <td>fall, 2014</td>\n",
       "      <td>10</td>\n",
       "      <td>1.111111</td>\n",
       "    </tr>\n",
       "    <tr>\n",
       "      <th>14</th>\n",
       "      <td>winter, 2015</td>\n",
       "      <td>1</td>\n",
       "      <td>1.000000</td>\n",
       "    </tr>\n",
       "    <tr>\n",
       "      <th>15</th>\n",
       "      <td>spring, 2015</td>\n",
       "      <td>4</td>\n",
       "      <td>1.000000</td>\n",
       "    </tr>\n",
       "    <tr>\n",
       "      <th>16</th>\n",
       "      <td>summer, 2015</td>\n",
       "      <td>11</td>\n",
       "      <td>2.200000</td>\n",
       "    </tr>\n",
       "    <tr>\n",
       "      <th>17</th>\n",
       "      <td>fall, 2015</td>\n",
       "      <td>5</td>\n",
       "      <td>1.666667</td>\n",
       "    </tr>\n",
       "    <tr>\n",
       "      <th>18</th>\n",
       "      <td>winter, 2016</td>\n",
       "      <td>1</td>\n",
       "      <td>1.000000</td>\n",
       "    </tr>\n",
       "    <tr>\n",
       "      <th>19</th>\n",
       "      <td>spring, 2016</td>\n",
       "      <td>24</td>\n",
       "      <td>1.200000</td>\n",
       "    </tr>\n",
       "    <tr>\n",
       "      <th>20</th>\n",
       "      <td>summer, 2016</td>\n",
       "      <td>25</td>\n",
       "      <td>1.785714</td>\n",
       "    </tr>\n",
       "    <tr>\n",
       "      <th>21</th>\n",
       "      <td>fall, 2016</td>\n",
       "      <td>38</td>\n",
       "      <td>1.652174</td>\n",
       "    </tr>\n",
       "    <tr>\n",
       "      <th>22</th>\n",
       "      <td>winter, 2017</td>\n",
       "      <td>6</td>\n",
       "      <td>3.000000</td>\n",
       "    </tr>\n",
       "    <tr>\n",
       "      <th>23</th>\n",
       "      <td>spring, 2017</td>\n",
       "      <td>23</td>\n",
       "      <td>1.277778</td>\n",
       "    </tr>\n",
       "    <tr>\n",
       "      <th>24</th>\n",
       "      <td>summer, 2017</td>\n",
       "      <td>56</td>\n",
       "      <td>1.513514</td>\n",
       "    </tr>\n",
       "    <tr>\n",
       "      <th>25</th>\n",
       "      <td>fall, 2017</td>\n",
       "      <td>33</td>\n",
       "      <td>1.222222</td>\n",
       "    </tr>\n",
       "    <tr>\n",
       "      <th>26</th>\n",
       "      <td>winter, 2018</td>\n",
       "      <td>3</td>\n",
       "      <td>1.000000</td>\n",
       "    </tr>\n",
       "    <tr>\n",
       "      <th>27</th>\n",
       "      <td>spring, 2018</td>\n",
       "      <td>32</td>\n",
       "      <td>1.103448</td>\n",
       "    </tr>\n",
       "    <tr>\n",
       "      <th>28</th>\n",
       "      <td>summer, 2018</td>\n",
       "      <td>64</td>\n",
       "      <td>1.882353</td>\n",
       "    </tr>\n",
       "    <tr>\n",
       "      <th>29</th>\n",
       "      <td>fall, 2018</td>\n",
       "      <td>59</td>\n",
       "      <td>1.685714</td>\n",
       "    </tr>\n",
       "    <tr>\n",
       "      <th>30</th>\n",
       "      <td>winter, 2019</td>\n",
       "      <td>6</td>\n",
       "      <td>1.500000</td>\n",
       "    </tr>\n",
       "    <tr>\n",
       "      <th>31</th>\n",
       "      <td>spring, 2019</td>\n",
       "      <td>75</td>\n",
       "      <td>1.415094</td>\n",
       "    </tr>\n",
       "    <tr>\n",
       "      <th>32</th>\n",
       "      <td>summer, 2019</td>\n",
       "      <td>182</td>\n",
       "      <td>2.192771</td>\n",
       "    </tr>\n",
       "    <tr>\n",
       "      <th>33</th>\n",
       "      <td>fall, 2019</td>\n",
       "      <td>202</td>\n",
       "      <td>2.525000</td>\n",
       "    </tr>\n",
       "  </tbody>\n",
       "</table>\n",
       "</div>"
      ],
      "text/plain": [
       "   Date of observation  Number of observations  Observations per user\n",
       "0         summer, 2005                       3               3.000000\n",
       "1         summer, 2006                       1               1.000000\n",
       "2         spring, 2010                       1               1.000000\n",
       "3           fall, 2010                       1               1.000000\n",
       "4         summer, 2011                       1               1.000000\n",
       "5           fall, 2011                       2               1.000000\n",
       "6         spring, 2012                       1               1.000000\n",
       "7         summer, 2012                       1               1.000000\n",
       "8           fall, 2012                       2               1.000000\n",
       "9         spring, 2013                       2               2.000000\n",
       "10        summer, 2013                       3               1.000000\n",
       "11          fall, 2013                       1               1.000000\n",
       "12        summer, 2014                       7               1.750000\n",
       "13          fall, 2014                      10               1.111111\n",
       "14        winter, 2015                       1               1.000000\n",
       "15        spring, 2015                       4               1.000000\n",
       "16        summer, 2015                      11               2.200000\n",
       "17          fall, 2015                       5               1.666667\n",
       "18        winter, 2016                       1               1.000000\n",
       "19        spring, 2016                      24               1.200000\n",
       "20        summer, 2016                      25               1.785714\n",
       "21          fall, 2016                      38               1.652174\n",
       "22        winter, 2017                       6               3.000000\n",
       "23        spring, 2017                      23               1.277778\n",
       "24        summer, 2017                      56               1.513514\n",
       "25          fall, 2017                      33               1.222222\n",
       "26        winter, 2018                       3               1.000000\n",
       "27        spring, 2018                      32               1.103448\n",
       "28        summer, 2018                      64               1.882353\n",
       "29          fall, 2018                      59               1.685714\n",
       "30        winter, 2019                       6               1.500000\n",
       "31        spring, 2019                      75               1.415094\n",
       "32        summer, 2019                     182               2.192771\n",
       "33          fall, 2019                     202               2.525000"
      ]
     },
     "execution_count": 32,
     "metadata": {},
     "output_type": "execute_result"
    }
   ],
   "source": [
    "# New dataframe only with columns needed\n",
    "iNat_complete = pd.DataFrame({'season_year':iNat_complete.season_year, 'obs_perseason':iNat_complete.obs_perseason,'adj_obs':iNat_complete.adj_obs})\n",
    "iNat_complete = iNat_complete.rename(columns={\"season_year\":\"Date of observation\",\"obs_perseason\":\"Number of observations\",\"adj_obs\":\"Observations per user\"})\n",
    "\n",
    "# Check final dataset for graphs\n",
    "iNat_complete"
   ]
  },
  {
   "cell_type": "markdown",
   "metadata": {},
   "source": [
    "### Step 7: undadjusted graph"
   ]
  },
  {
   "cell_type": "code",
   "execution_count": 33,
   "metadata": {},
   "outputs": [
    {
     "data": {
      "image/png": "[encoded data removed]",
      "text/plain": [
       "<Figure size 432x288 with 1 Axes>"
      ]
     },
     "metadata": {
      "needs_background": "light"
     },
     "output_type": "display_data"
    }
   ],
   "source": [
    "iNat_graph = iNat_complete.plot.bar(x='Date of observation', y='Number of observations', rot=90)"
   ]
  },
  {
   "cell_type": "markdown",
   "metadata": {},
   "source": [
    "This graph shows a sharp increase in observations of honeybees in the DMV area. \n",
    "There is a seasonal pattern, where they are observed the most in spring, summer, and fall.\n",
    "However, this graph, more than showing the presence of honeybees in the area, reflects the increase of iNaturalist users in time.\n",
    "the project of iNaturalist launched in 2008, with the possibility to enter observations retrospectively, \n",
    "hence the presence of a few observations before then."
   ]
  },
  {
   "cell_type": "markdown",
   "metadata": {},
   "source": [
    "### Step 8: user-adjusted graph"
   ]
  },
  {
   "cell_type": "code",
   "execution_count": 34,
   "metadata": {},
   "outputs": [
    {
     "data": {
      "image/png": "[encoded data removed]",
      "text/plain": [
       "<Figure size 432x288 with 1 Axes>"
      ]
     },
     "metadata": {
      "needs_background": "light"
     },
     "output_type": "display_data"
    }
   ],
   "source": [
    "iNat_graph_adjusted = iNat_complete.plot.bar(x='Date of observation', y='Observations per user', rot=90)"
   ]
  },
  {
   "cell_type": "markdown",
   "metadata": {},
   "source": [
    "This graph shows the number of observations per iNaturalist user. \n",
    "It shows peaks of observations on spring, summer, and fall, with the exception of winter 2017, \n",
    "when there were 3 observations per iNaturalist user.\n",
    "In general, this graph does not reflect a decline of observations in time. \n",
    "Perhaps in the next few years, with a higherer number of iNaturalists and increased habitat threat \n",
    "of pollinators from worsening climate change, we will see a downward trend."
   ]
  },
  {
   "cell_type": "markdown",
   "metadata": {},
   "source": [
    "### Step 9: update git"
   ]
  },
  {
   "cell_type": "code",
   "execution_count": 35,
   "metadata": {},
   "outputs": [
    {
     "name": "stderr",
     "output_type": "stream",
     "text": [
      "warning: LF will be replaced by CRLF in DMV_bees.ipynb.\n",
      "The file will have its original line endings in your working directory\n"
     ]
    },
    {
     "name": "stdout",
     "output_type": "stream",
     "text": [
      "[master f07cb7d] add assert statements\n",
      " Committer: Schwedhelm <schwedhelmramc2@nih.gov>\n",
      "Your name and email address were configured automatically based\n",
      "on your username and hostname. Please check that they are accurate.\n",
      "You can suppress this message by setting them explicitly. Run the\n",
      "following command and follow the instructions in your editor to edit\n",
      "your configuration file:\n",
      "\n",
      "    git config --global --edit\n",
      "\n",
      "After doing this, you may fix the identity used for this commit with:\n",
      "\n",
      "    git commit --amend --reset-author\n",
      "\n",
      " 1 file changed, 106 insertions(+), 1469 deletions(-)\n"
     ]
    }
   ],
   "source": [
    "# update git\n",
    "!git add DMV_bees.ipynb\n",
    "#!git add README.md\n",
    "!git commit -m \"add assert statements\""
   ]
  },
  {
   "cell_type": "code",
   "execution_count": 36,
   "metadata": {},
   "outputs": [
    {
     "name": "stderr",
     "output_type": "stream",
     "text": [
      "To https://github.com/caroschwedh/BIOF309-final-project.git\n",
      "   b4f1669..f07cb7d  master -> master\n"
     ]
    }
   ],
   "source": [
    "!git push"
   ]
  }
 ],
 "metadata": {
  "kernelspec": {
   "display_name": "Python 3",
   "language": "python",
   "name": "python3"
  },
  "language_info": {
   "codemirror_mode": {
    "name": "ipython",
    "version": 3
   },
   "file_extension": ".py",
   "mimetype": "text/x-python",
   "name": "python",
   "nbconvert_exporter": "python",
   "pygments_lexer": "ipython3",
   "version": "3.7.3"
  }
 },
 "nbformat": 4,
 "nbformat_minor": 4
}
